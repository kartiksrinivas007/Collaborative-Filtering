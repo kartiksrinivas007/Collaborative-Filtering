{
  "cells": [
    {
      "cell_type": "code",
      "execution_count": 16,
      "metadata": {
        "id": "GGqQp7uJVzwC"
      },
      "outputs": [],
      "source": [
        "import torch\n",
        "import torch.nn as nn\n",
        "import numpy as np\n",
        "from torch.utils.data import TensorDataset\n",
        "from torch.utils.data import DataLoader\n",
        "import torch.nn.functional as F"
      ]
    },
    {
      "cell_type": "code",
      "execution_count": 17,
      "metadata": {
        "colab": {
          "base_uri": "https://localhost:8080/"
        },
        "id": "XSjCagd7V055",
        "outputId": "4fe11c19-b468-489a-e8f6-a22082299e28"
      },
      "outputs": [
        {
          "name": "stdout",
          "output_type": "stream",
          "text": [
            "The ratings Matrix is =  tensor([[ 4.,  3.,  2.],\n",
            "        [ 5.,  4.,  5.],\n",
            "        [ 6.,  6.,  6.],\n",
            "        [ 7.,  7.,  8.],\n",
            "        [ 8.,  1.,  9.],\n",
            "        [ 9.,  9., 10.]], dtype=torch.float64)\n",
            "tensor(0.0002, dtype=torch.float64, grad_fn=<MulBackward0>)\n",
            "loss =  tensor(49.3705, dtype=torch.float64, grad_fn=<AddBackward0>)\n",
            "tensor([[ 0.1336,  0.3797, -0.4243,  1.8808],\n",
            "        [ 0.1657,  0.8435, -0.5216, -0.1533],\n",
            "        [ 0.4720, -1.0782, -0.6987,  1.3342],\n",
            "        [-0.5224,  0.4308, -0.1668, -0.2592],\n",
            "        [-0.0223, -0.1947,  0.5834,  2.1732],\n",
            "        [-1.0746, -0.9070, -0.7825, -1.0983]], dtype=torch.float64,\n",
            "       requires_grad=True) \n",
            " tensor([[-0.6319, -0.2473,  1.3060],\n",
            "        [-0.7780,  2.2813, -0.0416],\n",
            "        [-0.2793,  2.0412,  0.0669],\n",
            "        [ 0.6066, -0.9522,  0.2399]], dtype=torch.float64, requires_grad=True)\n"
          ]
        }
      ],
      "source": [
        "Rat = np.array([[4,5,6,7,8,9],[3,4,6,7,1,9],[2,5,6,8,9,10]],dtype=float).T #this is the ratings matrix\n",
        "Rat = torch.from_numpy(Rat) #import torch to make Ratings a tensor\n",
        "print(\"The ratings Matrix is = \",Rat) # 5,3\n",
        "\n",
        "#Random initialization of Machine Learning Parameters\n",
        "X = torch.randn((6,4),dtype = float,requires_grad = True)\n",
        "theta = torch.randn((4,3),dtype =float, requires_grad = True)\n",
        "#make predictions\n",
        "preds = X @ theta \n",
        "loss_fn = F.mse_loss\n",
        "#set Loss function ot be the Mean Squared Error\n",
        "weight_decay = 1e-5\n",
        "# Add regularization terms to the loss function\n",
        "regex = (torch.sum(torch.square(X)))*weight_decay\n",
        "regtheta = (torch.sum(torch.square(theta)))*weight_decay\n",
        "print(regex)\n",
        "loss = loss_fn((X @ theta), Rat) + regex + regtheta\n",
        "print(\"loss = \",loss) # use loss.item()\n",
        "print(X,\"\\n\",theta)\n"
      ]
    },
    {
      "cell_type": "code",
      "execution_count": 18,
      "metadata": {
        "colab": {
          "base_uri": "https://localhost:8080/"
        },
        "id": "l2gP3-NWbwmD",
        "outputId": "2d8272ce-4d24-4b86-e7db-75b5a93d7c9c"
      },
      "outputs": [
        {
          "name": "stdout",
          "output_type": "stream",
          "text": [
            "[tensor([[4., 3., 2.],\n",
            "        [8., 1., 9.],\n",
            "        [7., 7., 8.],\n",
            "        [6., 6., 6.],\n",
            "        [5., 4., 5.]], dtype=torch.float64)]\n"
          ]
        }
      ],
      "source": [
        "#we are taking full batch size (not batch Gradient Descent)! \n",
        "batch_size = 5;\n",
        "train_ds = TensorDataset(Rat) #wrap into a TensorDataset\n",
        "train_dl = DataLoader(train_ds,batch_size, shuffle = True)\n",
        "for rat in train_dl:\n",
        "  print(rat)\n",
        "  break"
      ]
    },
    {
      "cell_type": "code",
      "execution_count": 19,
      "metadata": {
        "colab": {
          "base_uri": "https://localhost:8080/"
        },
        "id": "Lh0O5Cj6D2Fn",
        "outputId": "822f5f1a-9882-45a4-ae6b-64a5f98afa56"
      },
      "outputs": [
        {
          "name": "stdout",
          "output_type": "stream",
          "text": [
            "This is a copy of Ratings  tensor([[ 4.,  3.,  2.],\n",
            "        [ 5.,  4.,  5.],\n",
            "        [ 6.,  6.,  6.],\n",
            "        [ 7.,  7.,  8.],\n",
            "        [ 8.,  1.,  9.],\n",
            "        [ 9.,  9., 10.]], dtype=torch.float64)\n"
          ]
        }
      ],
      "source": [
        "rat = Rat.clone().detach()\n",
        "print(\"This is a copy of Ratings \",rat)"
      ]
    },
    {
      "cell_type": "code",
      "execution_count": 20,
      "metadata": {
        "id": "mHI153ghaDBh"
      },
      "outputs": [],
      "source": [
        "##-------------------this is MY own gradient descent Implementation , this works as well -------------\n",
        "# num_epochs = 100000\n",
        "# learning_rate  = 1e-3;\n",
        "# for i in range (num_epochs):\n",
        "#   rat = X @ theta;\n",
        "#   loss = loss_fn(rat, Rat);\n",
        "#   loss.backward();\n",
        "#   with torch.no_grad():\n",
        "#     theta -= theta.grad*learning_rate\n",
        "#     X -= X.grad*learning_rate\n",
        "#     X.grad.zero_()\n",
        "#     theta.grad.zero_()\n",
        "#   #the variables in this system are X, theta and rat ( ratings ) \n",
        "  \n",
        "# print(loss_fn((X @ theta),Rat), '\\n')\n",
        "# print(\"Predicted Ratings = \\n\", (X @ theta))\n",
        "# print(\"Ratings =\\n \",Rat)\n",
        "# print(X)\n",
        "# print(theta)\n"
      ]
    },
    {
      "cell_type": "code",
      "execution_count": 21,
      "metadata": {
        "id": "N9LxCdyXd9hh"
      },
      "outputs": [],
      "source": [
        "\n",
        "optimizer = torch.optim.SGD((X,theta), lr = 1e-3 , weight_decay = 1e-5)\n",
        "for i in range (10000):\n",
        "  for r in train_dl:\n",
        "    loss = loss_fn(X @ theta, Rat)\n",
        "    loss.backward()\n",
        "    optimizer.step()\n",
        "    optimizer.zero_grad()\n",
        "\n"
      ]
    },
    {
      "cell_type": "code",
      "execution_count": 22,
      "metadata": {
        "colab": {
          "base_uri": "https://localhost:8080/"
        },
        "id": "TZiaDd9HK4RW",
        "outputId": "dc39e3e4-f40f-4940-d568-75d00c6a7ec3"
      },
      "outputs": [
        {
          "name": "stdout",
          "output_type": "stream",
          "text": [
            "The predicted Ratings after minimizing the Loss function = \n",
            "  tensor([[ 3.9243,  2.9970,  2.0720],\n",
            "        [ 5.1464,  4.0058,  4.8606],\n",
            "        [ 5.9547,  5.9982,  6.0431],\n",
            "        [ 7.0817,  7.0032,  7.9222],\n",
            "        [ 7.9779,  0.9992,  9.0210],\n",
            "        [ 8.9308,  8.9972, 10.0658]], dtype=torch.float64,\n",
            "       grad_fn=<MmBackward0>)\n"
          ]
        }
      ],
      "source": [
        "print(\"The predicted Ratings after minimizing the Loss function = \\n \",X @ theta)"
      ]
    },
    {
      "cell_type": "code",
      "execution_count": 23,
      "metadata": {
        "colab": {
          "base_uri": "https://localhost:8080/"
        },
        "id": "xYENEMK2OkLx",
        "outputId": "26112340-e60b-46c4-e1a8-5e37cf6f6b87"
      },
      "outputs": [
        {
          "name": "stdout",
          "output_type": "stream",
          "text": [
            "The real Ratings = \n",
            "  tensor([[ 4.,  3.,  2.],\n",
            "        [ 5.,  4.,  5.],\n",
            "        [ 6.,  6.,  6.],\n",
            "        [ 7.,  7.,  8.],\n",
            "        [ 8.,  1.,  9.],\n",
            "        [ 9.,  9., 10.]], dtype=torch.float64)\n"
          ]
        }
      ],
      "source": [
        "print(\"The real Ratings = \\n \",Rat)"
      ]
    },
    {
      "cell_type": "code",
      "execution_count": 24,
      "metadata": {
        "colab": {
          "base_uri": "https://localhost:8080/"
        },
        "id": "CZNyggTkOztF",
        "outputId": "6929dd37-0d9d-4ccd-80ac-ee0e35d7996d"
      },
      "outputs": [
        {
          "name": "stdout",
          "output_type": "stream",
          "text": [
            "The Mean Squared Error = \n",
            " tensor(0.0044, dtype=torch.float64, grad_fn=<MseLossBackward0>)\n"
          ]
        }
      ],
      "source": [
        "print(\"The Mean Squared Error = \\n\",loss_fn((X @theta),Rat))"
      ]
    },
    {
      "cell_type": "code",
      "execution_count": 25,
      "metadata": {
        "colab": {
          "base_uri": "https://localhost:8080/"
        },
        "id": "gmyLcie_O7Tq",
        "outputId": "6177e24a-6799-4421-dff1-28ce60641fb1"
      },
      "outputs": [
        {
          "name": "stdout",
          "output_type": "stream",
          "text": [
            "The sensitivity to the Movie Genres = \n",
            "\n",
            "tensor([[-1.4406, -1.5912, -1.8975],\n",
            "        [ 0.5945,  2.7722, -0.1911],\n",
            "        [-0.6395,  1.8339,  0.5603],\n",
            "        [ 2.6804,  0.7674,  2.7272]], dtype=torch.float64, requires_grad=True)\n"
          ]
        }
      ],
      "source": [
        "print(\"The sensitivity to the Movie Genres = \\n\")\n",
        "print(theta)"
      ]
    }
  ],
  "metadata": {
    "colab": {
      "collapsed_sections": [],
      "name": "CF_algorithm.ipynb",
      "provenance": []
    },
    "interpreter": {
      "hash": "0951120135be19c03de18811d16e6df95fbcb893a79b308f148af7953a19ee91"
    },
    "kernelspec": {
      "display_name": "Python 3.10.4 ('Engage_proj')",
      "language": "python",
      "name": "python3"
    },
    "language_info": {
      "codemirror_mode": {
        "name": "ipython",
        "version": 3
      },
      "file_extension": ".py",
      "mimetype": "text/x-python",
      "name": "python",
      "nbconvert_exporter": "python",
      "pygments_lexer": "ipython3",
      "version": "3.10.4"
    }
  },
  "nbformat": 4,
  "nbformat_minor": 0
}
