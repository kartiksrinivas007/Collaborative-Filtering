{
  "cells": [
    {
      "cell_type": "code",
      "execution_count": 2,
      "metadata": {
        "id": "GGqQp7uJVzwC"
      },
      "outputs": [],
      "source": [
        "import torch\n",
        "import torch.nn as nn\n",
        "import numpy as np\n",
        "from torch.utils.data import TensorDataset\n",
        "from torch.utils.data import DataLoader\n",
        "import torch.nn.functional as F"
      ]
    },
    {
      "cell_type": "code",
      "execution_count": 3,
      "metadata": {
        "colab": {
          "base_uri": "https://localhost:8080/"
        },
        "id": "XSjCagd7V055",
        "outputId": "4fe11c19-b468-489a-e8f6-a22082299e28"
      },
      "outputs": [
        {
          "name": "stdout",
          "output_type": "stream",
          "text": [
            "tensor([[ 4.,  3.,  2.],\n",
            "        [ 5.,  4.,  5.],\n",
            "        [ 6.,  6.,  6.],\n",
            "        [ 7.,  7.,  8.],\n",
            "        [ 8.,  1.,  9.],\n",
            "        [ 9.,  9., 10.]], dtype=torch.float64)\n",
            "tensor(0.0002, dtype=torch.float64, grad_fn=<MulBackward0>)\n",
            "loss =  tensor(43.4737, dtype=torch.float64, grad_fn=<AddBackward0>)\n",
            "tensor([[-0.8471, -0.0707,  0.2131,  1.9901],\n",
            "        [-0.2563, -0.2863, -0.1902, -0.0922],\n",
            "        [-0.2997,  1.2069, -0.7774,  0.7440],\n",
            "        [ 0.0023, -0.4901,  1.1188,  0.4229],\n",
            "        [-0.7414, -0.1921,  0.1089,  0.1770],\n",
            "        [-0.0701,  0.5252, -1.8719, -1.3299]], dtype=torch.float64,\n",
            "       requires_grad=True) \n",
            " tensor([[ 1.3807, -0.5663,  0.3764],\n",
            "        [-1.5232,  1.8752,  0.2846],\n",
            "        [-0.2340, -1.2783, -1.2018],\n",
            "        [-0.6453,  0.0967,  1.4855]], dtype=torch.float64, requires_grad=True)\n"
          ]
        }
      ],
      "source": [
        "Rat = np.array([[4,5,6,7,8,9],[3,4,6,7,1,9],[2,5,6,8,9,10]],dtype=float).T\n",
        "Rat = torch.from_numpy(Rat)\n",
        "print(Rat) # 5,3\n",
        "X = torch.randn((6,4),dtype = float,requires_grad = True)\n",
        "theta = torch.randn((4,3),dtype =float, requires_grad = True)\n",
        "preds = X @ theta \n",
        "loss_fn = F.mse_loss\n",
        "weight_decay = 1e-5\n",
        "regex = (torch.sum(torch.square(X)))*weight_decay\n",
        "regtheta = (torch.sum(torch.square(theta)))*weight_decay\n",
        "print(regex)\n",
        "loss = loss_fn((X @ theta), Rat) + regex + regtheta\n",
        "print(\"loss = \",loss) # use loss.item()\n",
        "print(X,\"\\n\",theta)\n"
      ]
    },
    {
      "cell_type": "code",
      "execution_count": 4,
      "metadata": {
        "colab": {
          "base_uri": "https://localhost:8080/"
        },
        "id": "l2gP3-NWbwmD",
        "outputId": "2d8272ce-4d24-4b86-e7db-75b5a93d7c9c"
      },
      "outputs": [
        {
          "name": "stdout",
          "output_type": "stream",
          "text": [
            "[tensor([[ 4.,  3.,  2.],\n",
            "        [ 8.,  1.,  9.],\n",
            "        [ 7.,  7.,  8.],\n",
            "        [ 6.,  6.,  6.],\n",
            "        [ 9.,  9., 10.]], dtype=torch.float64)]\n"
          ]
        }
      ],
      "source": [
        "batch_size = 5;\n",
        "train_ds = TensorDataset(Rat)\n",
        "#print(train_ds.tensors)\n",
        "train_dl = DataLoader(train_ds,batch_size, shuffle = True)\n",
        "for rat in train_dl:\n",
        "  print(rat)\n",
        "  break"
      ]
    },
    {
      "cell_type": "code",
      "execution_count": 5,
      "metadata": {
        "id": "4C3dDl2vV1Lu"
      },
      "outputs": [],
      "source": [
        "# opt = torch.optim.SGD((X,theta), lr = 1e-3, weight_decay = 1e-5)\n",
        "# opt.step()\n",
        "# num_epochs = 100"
      ]
    },
    {
      "cell_type": "code",
      "execution_count": 6,
      "metadata": {
        "id": "I5wM9nhmZXdt"
      },
      "outputs": [],
      "source": [
        "# for epoch in range(num_epochs):\n",
        "        \n",
        "#         # Train with batches of data\n",
        "#         for rat in train_dl:\n",
        "            \n",
        "#             # 1. Generate predictions\n",
        "#             preds = X @ theta\n",
        "            \n",
        "#             # 2. Calculate loss\n",
        "            \n",
        "\n",
        "#             print(loss)\n",
        "            \n",
        "#             # 3. Compute gradients\n",
        "#             loss.backward()\n",
        "            \n",
        "#             # 4. Update parameters using gradients\n",
        "#             opt.step()\n",
        "            \n",
        "#             # 5. Reset the gradients to zero\n",
        "#             opt.zero_grad()"
      ]
    },
    {
      "cell_type": "code",
      "execution_count": 7,
      "metadata": {
        "colab": {
          "base_uri": "https://localhost:8080/"
        },
        "id": "Lh0O5Cj6D2Fn",
        "outputId": "822f5f1a-9882-45a4-ae6b-64a5f98afa56"
      },
      "outputs": [
        {
          "name": "stdout",
          "output_type": "stream",
          "text": [
            "tensor([[ 4.,  3.,  2.],\n",
            "        [ 5.,  4.,  5.],\n",
            "        [ 6.,  6.,  6.],\n",
            "        [ 7.,  7.,  8.],\n",
            "        [ 8.,  1.,  9.],\n",
            "        [ 9.,  9., 10.]], dtype=torch.float64)\n"
          ]
        }
      ],
      "source": [
        "\n",
        "\n",
        "rat = Rat.clone().detach()\n",
        "print(rat)"
      ]
    },
    {
      "cell_type": "code",
      "execution_count": 8,
      "metadata": {
        "id": "mHI153ghaDBh"
      },
      "outputs": [],
      "source": [
        "# num_epochs = 1000\n",
        "# learning_rate  = 1e-3;\n",
        "# for i in range (num_epochs):\n",
        "#   rat = X @ theta;\n",
        "#   loss = loss_fn(rat, Rat);\n",
        "#   loss.backward();\n",
        "#   with torch.no_grad():\n",
        "#     theta -= theta.grad*learning_rate\n",
        "#     X -= X.grad*learning_rate\n",
        "#     X.grad.zero_()\n",
        "#     theta.grad.zero_()\n",
        "#   #the variables in this system are X, theta and rat ( ratings ) \n",
        "  \n",
        "# print(loss_fn((X @ theta),Rat), '\\n')\n",
        "# print(\"Predictions = \\n\", (X @ theta))\n",
        "# print(\"Ratings =\\n \",Rat)\n",
        "# print(X)\n",
        "# print(theta)\n",
        "\n"
      ]
    },
    {
      "cell_type": "code",
      "execution_count": 9,
      "metadata": {
        "id": "N9LxCdyXd9hh"
      },
      "outputs": [],
      "source": [
        "\n",
        "optimizer = torch.optim.SGD((X,theta), lr = 1e-3 , weight_decay = 1e-5)\n",
        "for i in range (10000):\n",
        "  for r in train_dl:\n",
        "    loss = loss_fn(X @ theta, Rat)\n",
        "    loss.backward()\n",
        "    optimizer.step()\n",
        "    optimizer.zero_grad()\n",
        "\n"
      ]
    },
    {
      "cell_type": "code",
      "execution_count": null,
      "metadata": {
        "colab": {
          "base_uri": "https://localhost:8080/"
        },
        "id": "TZiaDd9HK4RW",
        "outputId": "dc39e3e4-f40f-4940-d568-75d00c6a7ec3"
      },
      "outputs": [
        {
          "name": "stdout",
          "output_type": "stream",
          "text": [
            "tensor([[3.9021, 3.0137, 2.0840],\n",
            "        [5.1253, 3.9825, 4.8924],\n",
            "        [5.7633, 6.0331, 6.2032],\n",
            "        [6.9087, 7.0127, 8.0784],\n",
            "        [7.9722, 1.0039, 9.0238],\n",
            "        [9.2095, 8.9707, 9.8200]], dtype=torch.float64, grad_fn=<MmBackward0>)\n"
          ]
        }
      ],
      "source": [
        "print(X @ theta)"
      ]
    },
    {
      "cell_type": "code",
      "execution_count": null,
      "metadata": {
        "colab": {
          "base_uri": "https://localhost:8080/"
        },
        "id": "xYENEMK2OkLx",
        "outputId": "26112340-e60b-46c4-e1a8-5e37cf6f6b87"
      },
      "outputs": [
        {
          "name": "stdout",
          "output_type": "stream",
          "text": [
            "tensor([[ 4.,  3.,  2.],\n",
            "        [ 5.,  4.,  5.],\n",
            "        [ 6.,  6.,  6.],\n",
            "        [ 7.,  7.,  8.],\n",
            "        [ 8.,  1.,  9.],\n",
            "        [ 9.,  9., 10.]], dtype=torch.float64)\n"
          ]
        }
      ],
      "source": [
        "print(Rat)"
      ]
    },
    {
      "cell_type": "code",
      "execution_count": null,
      "metadata": {
        "colab": {
          "base_uri": "https://localhost:8080/"
        },
        "id": "CZNyggTkOztF",
        "outputId": "6929dd37-0d9d-4ccd-80ac-ee0e35d7996d"
      },
      "outputs": [
        {
          "name": "stdout",
          "output_type": "stream",
          "text": [
            "tensor(0.0131, dtype=torch.float64, grad_fn=<MseLossBackward0>)\n"
          ]
        }
      ],
      "source": [
        "print(loss_fn((X @theta),Rat))"
      ]
    },
    {
      "cell_type": "code",
      "execution_count": null,
      "metadata": {
        "colab": {
          "base_uri": "https://localhost:8080/"
        },
        "id": "gmyLcie_O7Tq",
        "outputId": "6177e24a-6799-4421-dff1-28ce60641fb1"
      },
      "outputs": [
        {
          "name": "stdout",
          "output_type": "stream",
          "text": [
            "tensor([[ 4.,  3.,  2.],\n",
            "        [ 5.,  4.,  5.],\n",
            "        [ 6.,  6.,  6.],\n",
            "        [ 7.,  7.,  8.],\n",
            "        [ 8.,  1.,  9.],\n",
            "        [ 9.,  9., 10.]], dtype=torch.float64)\n",
            "tensor([[ 0.2432,  0.9925,  0.2888],\n",
            "        [ 0.3479,  0.7985,  0.2726],\n",
            "        [-0.3281, -2.2023,  1.4194],\n",
            "        [-0.6302, -1.3943,  1.2710]], dtype=torch.float64, requires_grad=True)\n"
          ]
        }
      ],
      "source": [
        "print(Rat)\n",
        "print(theta)"
      ]
    },
    {
      "cell_type": "code",
      "execution_count": null,
      "metadata": {
        "id": "ZhxE3IYRSrBW"
      },
      "outputs": [],
      "source": []
    }
  ],
  "metadata": {
    "colab": {
      "collapsed_sections": [],
      "name": "CF_algorithm.ipynb",
      "provenance": []
    },
    "interpreter": {
      "hash": "8201e9342a4a492ddbd4e81efec90b2ccf0d205cda2cc39ac893f0c43374b5e0"
    },
    "kernelspec": {
      "display_name": "Python 3.9.12 ('base')",
      "language": "python",
      "name": "python3"
    },
    "language_info": {
      "codemirror_mode": {
        "name": "ipython",
        "version": 3
      },
      "file_extension": ".py",
      "mimetype": "text/x-python",
      "name": "python",
      "nbconvert_exporter": "python",
      "pygments_lexer": "ipython3",
      "version": "3.9.12"
    }
  },
  "nbformat": 4,
  "nbformat_minor": 0
}
