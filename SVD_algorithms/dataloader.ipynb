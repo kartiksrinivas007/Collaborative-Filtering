{
 "cells": [
  {
   "cell_type": "code",
   "execution_count": 14,
   "metadata": {},
   "outputs": [
    {
     "name": "stdout",
     "output_type": "stream",
     "text": [
      "        userId  movieId  rating   timestamp\n",
      "0            1        1     4.0   964982703\n",
      "1            1        3     4.0   964981247\n",
      "2            1        6     4.0   964982224\n",
      "3            1       47     5.0   964983815\n",
      "4            1       50     5.0   964982931\n",
      "...        ...      ...     ...         ...\n",
      "100831     610   166534     4.0  1493848402\n",
      "100832     610   168248     5.0  1493850091\n",
      "100833     610   168250     5.0  1494273047\n",
      "100834     610   168252     5.0  1493846352\n",
      "100835     610   170875     3.0  1493846415\n",
      "\n",
      "[100836 rows x 4 columns]\n",
      "<class 'pandas.core.frame.DataFrame'>\n"
     ]
    }
   ],
   "source": [
    "import pandas as pd\n",
    "import numpy as np\n",
    "from numpy import genfromtxt\n",
    "\n",
    "dataset = pd.read_csv('/home/arkartik/engage_2022/dataset/ratings.csv')\n",
    "print(dataset)\n",
    "print(type(dataset))"
   ]
  },
  {
   "cell_type": "code",
   "execution_count": 15,
   "metadata": {},
   "outputs": [
    {
     "name": "stdout",
     "output_type": "stream",
     "text": [
      "Index(['userId', 'movieId', 'rating', 'timestamp'], dtype='object')\n"
     ]
    }
   ],
   "source": [
    "print((dataset.columns))"
   ]
  },
  {
   "cell_type": "code",
   "execution_count": 16,
   "metadata": {},
   "outputs": [
    {
     "name": "stdout",
     "output_type": "stream",
     "text": [
      "(100837, 4)\n",
      "[[1.00000e+00 1.00000e+00 4.00000e+00]\n",
      " [1.00000e+00 3.00000e+00 4.00000e+00]\n",
      " [1.00000e+00 6.00000e+00 4.00000e+00]\n",
      " ...\n",
      " [6.10000e+02 1.68250e+05 5.00000e+00]\n",
      " [6.10000e+02 1.68252e+05 5.00000e+00]\n",
      " [6.10000e+02 1.70875e+05 3.00000e+00]]\n"
     ]
    }
   ],
   "source": [
    "ratings = np.genfromtxt('/home/arkartik/engage_2022/dataset/ratings.csv',delimiter=',', dtype=float)\n",
    "print(ratings.shape)\n",
    "ratings = ratings[np.arange(1,ratings.shape[0]),:]\n",
    "ratings = ratings[:,[0,1,2]]\n",
    "print(ratings)"
   ]
  },
  {
   "cell_type": "code",
   "execution_count": 17,
   "metadata": {},
   "outputs": [
    {
     "data": {
      "text/plain": [
       "array([4., 4., 4., ..., 5., 5., 3.])"
      ]
     },
     "execution_count": 17,
     "metadata": {},
     "output_type": "execute_result"
    }
   ],
   "source": [
    "ratings[:,2]"
   ]
  },
  {
   "cell_type": "code",
   "execution_count": 18,
   "metadata": {},
   "outputs": [
    {
     "name": "stdout",
     "output_type": "stream",
     "text": [
      "9742\n",
      "9742\n",
      "<class 'dict'>\n",
      "(9742,)\n"
     ]
    }
   ],
   "source": [
    "links = np.genfromtxt('/home/arkartik/engage_2022/dataset/links.csv',delimiter = ',',dtype= int)\n",
    "movie_ids = links[np.arange(1,links.shape[0]),0] \n",
    "list_of_movie_ids = list(movie_ids)\n",
    "values_of_dictionary = list(np.arange(0,movie_ids.shape[0]))\n",
    "print(len(values_of_dictionary))\n",
    "print(len(list_of_movie_ids))\n",
    "res = {list_of_movie_ids[i]: values_of_dictionary[i] for i in range(len(list_of_movie_ids))}\n",
    "res_reverse = {values_of_dictionary[i]:list_of_movie_ids[i] for i in range(len(list_of_movie_ids))}\n",
    "res[1]\n",
    "print (type(res))\n",
    "print(movie_ids.shape)"
   ]
  },
  {
   "cell_type": "code",
   "execution_count": 19,
   "metadata": {},
   "outputs": [],
   "source": [
    "final_ratings = np.zeros((611,movie_ids.shape[0]))\n",
    "for row in ratings:\n",
    "    user = int(row[0])\n",
    "    movie_id = int(row[1])\n",
    "    movie_key = res[movie_id]\n",
    "    final_ratings[user][movie_key] = row[2]\n"
   ]
  },
  {
   "cell_type": "code",
   "execution_count": 20,
   "metadata": {},
   "outputs": [
    {
     "name": "stdout",
     "output_type": "stream",
     "text": [
      "201\n",
      "(array([   0,    2,    5,   43,   46,   62,   89,   97,  124,  130,  136,\n",
      "        184,  190,  197,  201,  224,  257,  275,  291,  307,  314,  320,\n",
      "        325,  367,  384,  398,  418,  436,  461,  476,  484,  485,  508,\n",
      "        509,  510,  513,  520,  546,  551,  559,  592,  594,  615,  632,\n",
      "        701,  705,  720,  723,  734,  767,  781,  782,  783,  786,  787,\n",
      "        788,  789,  797,  801,  810,  815,  820,  828,  829,  831,  836,\n",
      "        856,  863,  898,  899,  900,  907,  909,  911,  914,  915,  920,\n",
      "        921,  923,  925,  927,  939,  955,  957,  964,  969,  974,  977,\n",
      "        981,  990,  996, 1036, 1060, 1076, 1084, 1110, 1126, 1146, 1154,\n",
      "       1171, 1181, 1183, 1190, 1218, 1220, 1224, 1235, 1261, 1298, 1319,\n",
      "       1326, 1332, 1333, 1401, 1407, 1431, 1444, 1475, 1480, 1487, 1493,\n",
      "       1503, 1505, 1516, 1517, 1522, 1526, 1543, 1553, 1556, 1557, 1559,\n",
      "       1562, 1567, 1576, 1577, 1595, 1597, 1599, 1601, 1617, 1628, 1644,\n",
      "       1674, 1687, 1691, 1704, 1734, 1743, 1755, 1768, 1788, 1790, 1796,\n",
      "       1806, 1814, 1826, 1842, 1850, 1858, 1866, 1874, 1883, 1904, 1905,\n",
      "       1917, 1939, 1946, 1957, 1971, 1972, 1979, 1986, 1987, 1990, 1991,\n",
      "       1994, 1997, 2020, 2028, 2038, 2077, 2103, 2126, 2145, 2157, 2182,\n",
      "       2193, 2216, 2218, 2219, 2220, 2226, 2248, 2250, 2254, 2256, 2259,\n",
      "       2286, 2287, 2302, 2303, 2310, 2372, 2388, 2394, 2431, 2434, 2440,\n",
      "       2460, 2526, 2571, 2572, 2573, 2579, 2581, 2603, 2608, 2636, 2674,\n",
      "       2696, 2713, 2733, 2764, 2765, 2788, 2798, 2802, 2836, 2847, 2991,\n",
      "       3673]),)\n"
     ]
    }
   ],
   "source": [
    "print(res[235]) #the key for the movie id 3235\n",
    "print (np.where(final_ratings[1] > 0)) #the 'values' for the movie id's in the dictionary that user 1 has rated"
   ]
  },
  {
   "cell_type": "code",
   "execution_count": 21,
   "metadata": {},
   "outputs": [
    {
     "name": "stdout",
     "output_type": "stream",
     "text": [
      "(611, 9742)\n",
      "(610, 9742)\n"
     ]
    }
   ],
   "source": [
    "print(final_ratings.shape)\n",
    "final_ratings = final_ratings[np.arange(1,final_ratings.shape[0]),:]\n",
    "print(final_ratings.shape)"
   ]
  },
  {
   "cell_type": "code",
   "execution_count": null,
   "metadata": {},
   "outputs": [],
   "source": []
  }
 ],
 "metadata": {
  "interpreter": {
   "hash": "8201e9342a4a492ddbd4e81efec90b2ccf0d205cda2cc39ac893f0c43374b5e0"
  },
  "kernelspec": {
   "display_name": "Python 3.9.12 ('base')",
   "language": "python",
   "name": "python3"
  },
  "language_info": {
   "codemirror_mode": {
    "name": "ipython",
    "version": 3
   },
   "file_extension": ".py",
   "mimetype": "text/x-python",
   "name": "python",
   "nbconvert_exporter": "python",
   "pygments_lexer": "ipython3",
   "version": "3.9.12"
  },
  "orig_nbformat": 4
 },
 "nbformat": 4,
 "nbformat_minor": 2
}
